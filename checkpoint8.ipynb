{
 "cells": [
  {
   "cell_type": "code",
   "execution_count": 1,
   "id": "f7edc2e9",
   "metadata": {},
   "outputs": [
    {
     "name": "stdout",
     "output_type": "stream",
     "text": [
      "What is Python language?                                                \n",
      "Python is a widely used high-level, general-purpose, interpreted, dynamic programming language.\n",
      "Its design philosophy emphasizes code readability,\n",
      " and its syntax allows programmers to express concepts in fewer lines of code than possible in languages such as C++ or Java. \n",
      "Python supports multiple programming paradigms, including object-oriented, imperative and functional programming or procedural styles.\n",
      " It features a dynamic type system and automatic memory management and has a large and comprehensive standard library.\n",
      "The best way we learn anything is by practice and exercise questions.\n",
      " We  have started this section for those (beginner to intermediate) who are familiar with Python."
     ]
    }
   ],
   "source": [
    "f=open(\"python.txt\",\"r\")\n",
    "for n in f:\n",
    "    print(n, end = '')"
   ]
  },
  {
   "cell_type": "code",
   "execution_count": 12,
   "id": "7bb4351d",
   "metadata": {},
   "outputs": [
    {
     "name": "stdout",
     "output_type": "stream",
     "text": [
      "how many lines do you want to read from the begginning : 4\n"
     ]
    }
   ],
   "source": [
    "myfile = open(\"python.txt\")\n",
    "n=(int(input(\"how many lines do you want to read from the begginning : \")))\n",
    "for lines in range(n):\n",
    "    lines = myfile.readline()\n",
    "    print(lines)"
   ]
  },
  {
   "cell_type": "code",
   "execution_count": 15,
   "id": "bd12a072",
   "metadata": {},
   "outputs": [
    {
     "name": "stdout",
     "output_type": "stream",
     "text": [
      "how many lines do you want to read from the end : 1\n",
      " We  have started this section for those (beginner to intermediate) who are familiar with Python."
     ]
    }
   ],
   "source": [
    "n=(int(input(\"how many lines do you want to read from the end : \")))\n",
    "with open(\"python.txt\") as myfile:\n",
    "    lines = myfile.readlines()\n",
    "    last_lines = lines[-n:]\n",
    "    for f in last_lines:\n",
    "        print(f,end=\"\")\n"
   ]
  },
  {
   "cell_type": "code",
   "execution_count": 16,
   "id": "0e9a1159",
   "metadata": {},
   "outputs": [
    {
     "name": "stdout",
     "output_type": "stream",
     "text": [
      "148\n"
     ]
    }
   ],
   "source": [
    "def count_words(h):\n",
    "    with open(h) as f:\n",
    "        data = f.read()\n",
    "        data.replace(\",\", \" \")\n",
    "        return len(data.split(\" \"))\n",
    "print(count_words(\"python.txt\"))\n"
   ]
  },
  {
   "cell_type": "code",
   "execution_count": null,
   "id": "7d328fd1",
   "metadata": {},
   "outputs": [],
   "source": []
  }
 ],
 "metadata": {
  "kernelspec": {
   "display_name": "Python 3",
   "language": "python",
   "name": "python3"
  },
  "language_info": {
   "codemirror_mode": {
    "name": "ipython",
    "version": 3
   },
   "file_extension": ".py",
   "mimetype": "text/x-python",
   "name": "python",
   "nbconvert_exporter": "python",
   "pygments_lexer": "ipython3",
   "version": "3.8.8"
  }
 },
 "nbformat": 4,
 "nbformat_minor": 5
}
